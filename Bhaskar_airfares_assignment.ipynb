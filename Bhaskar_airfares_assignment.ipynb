{
  "nbformat": 4,
  "nbformat_minor": 0,
  "metadata": {
    "colab": {
      "name": "Bhaskar_airfares assignment.ipynb",
      "provenance": [],
      "toc_visible": true,
      "mount_file_id": "1qXc-0V3d7Knt6MfJ1Pe_TND68JJAUjU6",
      "authorship_tag": "ABX9TyM0GE7occm+mzbDnZsguvtM",
      "include_colab_link": true
    },
    "kernelspec": {
      "name": "python3",
      "display_name": "Python 3"
    }
  },
  "cells": [
    {
      "cell_type": "markdown",
      "metadata": {
        "id": "view-in-github",
        "colab_type": "text"
      },
      "source": [
        "<a href=\"https://colab.research.google.com/github/tirubhaskar/MachineLearning/blob/master/Bhaskar_airfares_assignment.ipynb\" target=\"_parent\"><img src=\"https://colab.research.google.com/assets/colab-badge.svg\" alt=\"Open In Colab\"/></a>"
      ]
    },
    {
      "cell_type": "code",
      "metadata": {
        "id": "9rvr-YoFPgFE",
        "colab_type": "code",
        "colab": {}
      },
      "source": [
        "#import all the required libraries\n",
        "import pandas as pd\n",
        "from sklearn import linear_model\n",
        "from sklearn import model_selection\n",
        "from sklearn.metrics import r2_score\n",
        "import sklearn as sk"
      ],
      "execution_count": null,
      "outputs": []
    },
    {
      "cell_type": "code",
      "metadata": {
        "id": "sJOg7wfdRMgC",
        "colab_type": "code",
        "colab": {
          "base_uri": "https://localhost:8080/",
          "height": 204
        },
        "outputId": "38d0e8d8-f1a4-48ea-fb8a-d4ec0da00ca5"
      },
      "source": [
        "df = pd.read_csv(\"/content/drive/My Drive/Colab Notebooks/Airfares - Nuremic Columns.csv\")\n",
        "df.head()"
      ],
      "execution_count": null,
      "outputs": [
        {
          "output_type": "execute_result",
          "data": {
            "text/html": [
              "<div>\n",
              "<style scoped>\n",
              "    .dataframe tbody tr th:only-of-type {\n",
              "        vertical-align: middle;\n",
              "    }\n",
              "\n",
              "    .dataframe tbody tr th {\n",
              "        vertical-align: top;\n",
              "    }\n",
              "\n",
              "    .dataframe thead th {\n",
              "        text-align: right;\n",
              "    }\n",
              "</style>\n",
              "<table border=\"1\" class=\"dataframe\">\n",
              "  <thead>\n",
              "    <tr style=\"text-align: right;\">\n",
              "      <th></th>\n",
              "      <th>COUPON</th>\n",
              "      <th>NEW</th>\n",
              "      <th>HI</th>\n",
              "      <th>S_INCOME</th>\n",
              "      <th>E_INCOME</th>\n",
              "      <th>S_POP</th>\n",
              "      <th>E_POP</th>\n",
              "      <th>DISTANCE</th>\n",
              "      <th>PAX</th>\n",
              "      <th>FARE</th>\n",
              "    </tr>\n",
              "  </thead>\n",
              "  <tbody>\n",
              "    <tr>\n",
              "      <th>0</th>\n",
              "      <td>1.00</td>\n",
              "      <td>3</td>\n",
              "      <td>5291.99</td>\n",
              "      <td>28637</td>\n",
              "      <td>21112</td>\n",
              "      <td>3036732</td>\n",
              "      <td>205711</td>\n",
              "      <td>312</td>\n",
              "      <td>7864</td>\n",
              "      <td>64.11</td>\n",
              "    </tr>\n",
              "    <tr>\n",
              "      <th>1</th>\n",
              "      <td>1.06</td>\n",
              "      <td>3</td>\n",
              "      <td>5419.16</td>\n",
              "      <td>26993</td>\n",
              "      <td>29838</td>\n",
              "      <td>3532657</td>\n",
              "      <td>7145897</td>\n",
              "      <td>576</td>\n",
              "      <td>8820</td>\n",
              "      <td>174.47</td>\n",
              "    </tr>\n",
              "    <tr>\n",
              "      <th>2</th>\n",
              "      <td>1.06</td>\n",
              "      <td>3</td>\n",
              "      <td>9185.28</td>\n",
              "      <td>30124</td>\n",
              "      <td>29838</td>\n",
              "      <td>5787293</td>\n",
              "      <td>7145897</td>\n",
              "      <td>364</td>\n",
              "      <td>6452</td>\n",
              "      <td>207.76</td>\n",
              "    </tr>\n",
              "    <tr>\n",
              "      <th>3</th>\n",
              "      <td>1.06</td>\n",
              "      <td>3</td>\n",
              "      <td>2657.35</td>\n",
              "      <td>29260</td>\n",
              "      <td>29838</td>\n",
              "      <td>7830332</td>\n",
              "      <td>7145897</td>\n",
              "      <td>612</td>\n",
              "      <td>25144</td>\n",
              "      <td>85.47</td>\n",
              "    </tr>\n",
              "    <tr>\n",
              "      <th>4</th>\n",
              "      <td>1.06</td>\n",
              "      <td>3</td>\n",
              "      <td>2657.35</td>\n",
              "      <td>29260</td>\n",
              "      <td>29838</td>\n",
              "      <td>7830332</td>\n",
              "      <td>7145897</td>\n",
              "      <td>612</td>\n",
              "      <td>25144</td>\n",
              "      <td>85.47</td>\n",
              "    </tr>\n",
              "  </tbody>\n",
              "</table>\n",
              "</div>"
            ],
            "text/plain": [
              "   COUPON  NEW       HI  S_INCOME  ...    E_POP  DISTANCE    PAX    FARE\n",
              "0    1.00    3  5291.99     28637  ...   205711       312   7864   64.11\n",
              "1    1.06    3  5419.16     26993  ...  7145897       576   8820  174.47\n",
              "2    1.06    3  9185.28     30124  ...  7145897       364   6452  207.76\n",
              "3    1.06    3  2657.35     29260  ...  7145897       612  25144   85.47\n",
              "4    1.06    3  2657.35     29260  ...  7145897       612  25144   85.47\n",
              "\n",
              "[5 rows x 10 columns]"
            ]
          },
          "metadata": {
            "tags": []
          },
          "execution_count": 5
        }
      ]
    },
    {
      "cell_type": "code",
      "metadata": {
        "id": "C4uEA5R1yBn_",
        "colab_type": "code",
        "colab": {
          "base_uri": "https://localhost:8080/",
          "height": 359
        },
        "outputId": "a5f92a04-8fc2-40c3-9115-ef7a64750590"
      },
      "source": [
        "df.corr()"
      ],
      "execution_count": null,
      "outputs": [
        {
          "output_type": "execute_result",
          "data": {
            "text/html": [
              "<div>\n",
              "<style scoped>\n",
              "    .dataframe tbody tr th:only-of-type {\n",
              "        vertical-align: middle;\n",
              "    }\n",
              "\n",
              "    .dataframe tbody tr th {\n",
              "        vertical-align: top;\n",
              "    }\n",
              "\n",
              "    .dataframe thead th {\n",
              "        text-align: right;\n",
              "    }\n",
              "</style>\n",
              "<table border=\"1\" class=\"dataframe\">\n",
              "  <thead>\n",
              "    <tr style=\"text-align: right;\">\n",
              "      <th></th>\n",
              "      <th>COUPON</th>\n",
              "      <th>NEW</th>\n",
              "      <th>HI</th>\n",
              "      <th>S_INCOME</th>\n",
              "      <th>E_INCOME</th>\n",
              "      <th>S_POP</th>\n",
              "      <th>E_POP</th>\n",
              "      <th>DISTANCE</th>\n",
              "      <th>PAX</th>\n",
              "      <th>FARE</th>\n",
              "    </tr>\n",
              "  </thead>\n",
              "  <tbody>\n",
              "    <tr>\n",
              "      <th>COUPON</th>\n",
              "      <td>1.000000</td>\n",
              "      <td>0.020223</td>\n",
              "      <td>-0.347252</td>\n",
              "      <td>-0.088403</td>\n",
              "      <td>0.046889</td>\n",
              "      <td>-0.107763</td>\n",
              "      <td>0.094970</td>\n",
              "      <td>0.746805</td>\n",
              "      <td>-0.336974</td>\n",
              "      <td>0.496537</td>\n",
              "    </tr>\n",
              "    <tr>\n",
              "      <th>NEW</th>\n",
              "      <td>0.020223</td>\n",
              "      <td>1.000000</td>\n",
              "      <td>0.054147</td>\n",
              "      <td>0.026597</td>\n",
              "      <td>0.113377</td>\n",
              "      <td>-0.016672</td>\n",
              "      <td>0.058568</td>\n",
              "      <td>0.080965</td>\n",
              "      <td>0.010495</td>\n",
              "      <td>0.091730</td>\n",
              "    </tr>\n",
              "    <tr>\n",
              "      <th>HI</th>\n",
              "      <td>-0.347252</td>\n",
              "      <td>0.054147</td>\n",
              "      <td>1.000000</td>\n",
              "      <td>-0.027382</td>\n",
              "      <td>0.082393</td>\n",
              "      <td>-0.172495</td>\n",
              "      <td>-0.062456</td>\n",
              "      <td>-0.312375</td>\n",
              "      <td>-0.168961</td>\n",
              "      <td>0.025195</td>\n",
              "    </tr>\n",
              "    <tr>\n",
              "      <th>S_INCOME</th>\n",
              "      <td>-0.088403</td>\n",
              "      <td>0.026597</td>\n",
              "      <td>-0.027382</td>\n",
              "      <td>1.000000</td>\n",
              "      <td>-0.138864</td>\n",
              "      <td>0.517187</td>\n",
              "      <td>-0.272280</td>\n",
              "      <td>0.028153</td>\n",
              "      <td>0.138197</td>\n",
              "      <td>0.209135</td>\n",
              "    </tr>\n",
              "    <tr>\n",
              "      <th>E_INCOME</th>\n",
              "      <td>0.046889</td>\n",
              "      <td>0.113377</td>\n",
              "      <td>0.082393</td>\n",
              "      <td>-0.138864</td>\n",
              "      <td>1.000000</td>\n",
              "      <td>-0.144059</td>\n",
              "      <td>0.458418</td>\n",
              "      <td>0.176531</td>\n",
              "      <td>0.259961</td>\n",
              "      <td>0.326092</td>\n",
              "    </tr>\n",
              "    <tr>\n",
              "      <th>S_POP</th>\n",
              "      <td>-0.107763</td>\n",
              "      <td>-0.016672</td>\n",
              "      <td>-0.172495</td>\n",
              "      <td>0.517187</td>\n",
              "      <td>-0.144059</td>\n",
              "      <td>1.000000</td>\n",
              "      <td>-0.280143</td>\n",
              "      <td>0.018437</td>\n",
              "      <td>0.284611</td>\n",
              "      <td>0.145097</td>\n",
              "    </tr>\n",
              "    <tr>\n",
              "      <th>E_POP</th>\n",
              "      <td>0.094970</td>\n",
              "      <td>0.058568</td>\n",
              "      <td>-0.062456</td>\n",
              "      <td>-0.272280</td>\n",
              "      <td>0.458418</td>\n",
              "      <td>-0.280143</td>\n",
              "      <td>1.000000</td>\n",
              "      <td>0.115640</td>\n",
              "      <td>0.314698</td>\n",
              "      <td>0.285043</td>\n",
              "    </tr>\n",
              "    <tr>\n",
              "      <th>DISTANCE</th>\n",
              "      <td>0.746805</td>\n",
              "      <td>0.080965</td>\n",
              "      <td>-0.312375</td>\n",
              "      <td>0.028153</td>\n",
              "      <td>0.176531</td>\n",
              "      <td>0.018437</td>\n",
              "      <td>0.115640</td>\n",
              "      <td>1.000000</td>\n",
              "      <td>-0.102482</td>\n",
              "      <td>0.670016</td>\n",
              "    </tr>\n",
              "    <tr>\n",
              "      <th>PAX</th>\n",
              "      <td>-0.336974</td>\n",
              "      <td>0.010495</td>\n",
              "      <td>-0.168961</td>\n",
              "      <td>0.138197</td>\n",
              "      <td>0.259961</td>\n",
              "      <td>0.284611</td>\n",
              "      <td>0.314698</td>\n",
              "      <td>-0.102482</td>\n",
              "      <td>1.000000</td>\n",
              "      <td>-0.090705</td>\n",
              "    </tr>\n",
              "    <tr>\n",
              "      <th>FARE</th>\n",
              "      <td>0.496537</td>\n",
              "      <td>0.091730</td>\n",
              "      <td>0.025195</td>\n",
              "      <td>0.209135</td>\n",
              "      <td>0.326092</td>\n",
              "      <td>0.145097</td>\n",
              "      <td>0.285043</td>\n",
              "      <td>0.670016</td>\n",
              "      <td>-0.090705</td>\n",
              "      <td>1.000000</td>\n",
              "    </tr>\n",
              "  </tbody>\n",
              "</table>\n",
              "</div>"
            ],
            "text/plain": [
              "            COUPON       NEW        HI  ...  DISTANCE       PAX      FARE\n",
              "COUPON    1.000000  0.020223 -0.347252  ...  0.746805 -0.336974  0.496537\n",
              "NEW       0.020223  1.000000  0.054147  ...  0.080965  0.010495  0.091730\n",
              "HI       -0.347252  0.054147  1.000000  ... -0.312375 -0.168961  0.025195\n",
              "S_INCOME -0.088403  0.026597 -0.027382  ...  0.028153  0.138197  0.209135\n",
              "E_INCOME  0.046889  0.113377  0.082393  ...  0.176531  0.259961  0.326092\n",
              "S_POP    -0.107763 -0.016672 -0.172495  ...  0.018437  0.284611  0.145097\n",
              "E_POP     0.094970  0.058568 -0.062456  ...  0.115640  0.314698  0.285043\n",
              "DISTANCE  0.746805  0.080965 -0.312375  ...  1.000000 -0.102482  0.670016\n",
              "PAX      -0.336974  0.010495 -0.168961  ... -0.102482  1.000000 -0.090705\n",
              "FARE      0.496537  0.091730  0.025195  ...  0.670016 -0.090705  1.000000\n",
              "\n",
              "[10 rows x 10 columns]"
            ]
          },
          "metadata": {
            "tags": []
          },
          "execution_count": 6
        }
      ]
    },
    {
      "cell_type": "code",
      "metadata": {
        "id": "9jydeHCNNQyU",
        "colab_type": "code",
        "colab": {}
      },
      "source": [
        "#store in fare the FARE Columns Values\n",
        "fare = df[['FARE']]"
      ],
      "execution_count": null,
      "outputs": []
    },
    {
      "cell_type": "code",
      "metadata": {
        "id": "ULIxuV7iOS8R",
        "colab_type": "code",
        "colab": {}
      },
      "source": [
        "#Full Model\n",
        "#store the 'COUPON', 'NEW', 'HI', 'S_INCOME', 'E_INCOME', 'S_POP', 'E_POP', 'DISTANCE','PAX', 'Vacation_code', 'SW_Code', 'Slot_Code', 'Gate_Code as predictors\n",
        "predictors_all = df[['COUPON', 'NEW', 'HI', 'S_INCOME', 'E_INCOME', 'S_POP', 'E_POP', 'DISTANCE','PAX', 'Vaction_Code', 'SW_Code', 'Slot_Code', 'Gate_Code']]"
      ],
      "execution_count": null,
      "outputs": []
    },
    {
      "cell_type": "code",
      "metadata": {
        "id": "QtrZZ9RIO8SC",
        "colab_type": "code",
        "colab": {}
      },
      "source": [
        "predictors_train, predictors_test, fare_train, fare_test = model_selection.train_test_split(predictors_all, fare, test_size=0.3)"
      ],
      "execution_count": null,
      "outputs": []
    },
    {
      "cell_type": "code",
      "metadata": {
        "id": "jmSl95TgR2-W",
        "colab_type": "code",
        "colab": {
          "base_uri": "https://localhost:8080/",
          "height": 34
        },
        "outputId": "f19f13bc-afa4-4dc6-ffbc-48b7f48f8114"
      },
      "source": [
        "lr = linear_model.LinearRegression()\n",
        "lr.fit(predictors_train, fare_train)"
      ],
      "execution_count": null,
      "outputs": [
        {
          "output_type": "execute_result",
          "data": {
            "text/plain": [
              "LinearRegression(copy_X=True, fit_intercept=True, n_jobs=None, normalize=False)"
            ]
          },
          "metadata": {
            "tags": []
          },
          "execution_count": 9
        }
      ]
    },
    {
      "cell_type": "code",
      "metadata": {
        "id": "GevydaFRjgaF",
        "colab_type": "code",
        "colab": {
          "base_uri": "https://localhost:8080/",
          "height": 442
        },
        "outputId": "e8fa70e2-799f-4f93-b242-fc721fbfb8af"
      },
      "source": [
        "lr.score(predictors_train, fare_train)\n",
        "lr.intercept_\n",
        "lr.coef_\n",
        "\n"
      ],
      "execution_count": null,
      "outputs": [
        {
          "output_type": "stream",
          "text": [
            "Coefficients: [[ 1.23923266e+01 -1.73769301e+00  9.95787304e-03  1.08862091e-03\n",
            "   1.64545589e-03  4.13882285e-06  4.49958790e-06  7.59167002e-02\n",
            "  -7.46891007e-04 -3.77542045e+01 -4.01292913e+01 -1.33718957e+01\n",
            "  -1.49335873e+01]]\n",
            "Intercept: [-22.68250773]\n"
          ],
          "name": "stdout"
        },
        {
          "output_type": "error",
          "ename": "ValueError",
          "evalue": "ignored",
          "traceback": [
            "\u001b[0;31m---------------------------------------------------------------------------\u001b[0m",
            "\u001b[0;31mValueError\u001b[0m                                Traceback (most recent call last)",
            "\u001b[0;32m<ipython-input-33-3f4cf89eedfb>\u001b[0m in \u001b[0;36m<module>\u001b[0;34m()\u001b[0m\n\u001b[1;32m      6\u001b[0m \u001b[0mprint\u001b[0m\u001b[0;34m(\u001b[0m\u001b[0;34m'Intercept:'\u001b[0m\u001b[0;34m,\u001b[0m \u001b[0mlr\u001b[0m\u001b[0;34m.\u001b[0m\u001b[0mintercept_\u001b[0m\u001b[0;34m)\u001b[0m\u001b[0;34m\u001b[0m\u001b[0;34m\u001b[0m\u001b[0m\n\u001b[1;32m      7\u001b[0m \u001b[0;31m#print('Mean squared error (MSE): %.2f'% sk.metrics.mean_squared_error(fare_train, predictors_train))\u001b[0m\u001b[0;34m\u001b[0m\u001b[0;34m\u001b[0m\u001b[0;34m\u001b[0m\u001b[0m\n\u001b[0;32m----> 8\u001b[0;31m \u001b[0msk\u001b[0m\u001b[0;34m.\u001b[0m\u001b[0mmetrics\u001b[0m\u001b[0;34m.\u001b[0m\u001b[0mmean_squared_error\u001b[0m\u001b[0;34m(\u001b[0m\u001b[0mpredictors_train\u001b[0m\u001b[0;34m,\u001b[0m \u001b[0mfare_train\u001b[0m\u001b[0;34m)\u001b[0m\u001b[0;34m\u001b[0m\u001b[0;34m\u001b[0m\u001b[0m\n\u001b[0m\u001b[1;32m      9\u001b[0m \u001b[0;31m# print('Coefficient of determination (R^2): %.2f' % r2_score(fare_train, predictors_train))\u001b[0m\u001b[0;34m\u001b[0m\u001b[0;34m\u001b[0m\u001b[0;34m\u001b[0m\u001b[0m\n",
            "\u001b[0;32m/usr/local/lib/python3.6/dist-packages/sklearn/metrics/_regression.py\u001b[0m in \u001b[0;36mmean_squared_error\u001b[0;34m(y_true, y_pred, sample_weight, multioutput, squared)\u001b[0m\n\u001b[1;32m    250\u001b[0m     \"\"\"\n\u001b[1;32m    251\u001b[0m     y_type, y_true, y_pred, multioutput = _check_reg_targets(\n\u001b[0;32m--> 252\u001b[0;31m         y_true, y_pred, multioutput)\n\u001b[0m\u001b[1;32m    253\u001b[0m     \u001b[0mcheck_consistent_length\u001b[0m\u001b[0;34m(\u001b[0m\u001b[0my_true\u001b[0m\u001b[0;34m,\u001b[0m \u001b[0my_pred\u001b[0m\u001b[0;34m,\u001b[0m \u001b[0msample_weight\u001b[0m\u001b[0;34m)\u001b[0m\u001b[0;34m\u001b[0m\u001b[0;34m\u001b[0m\u001b[0m\n\u001b[1;32m    254\u001b[0m     output_errors = np.average((y_true - y_pred) ** 2, axis=0,\n",
            "\u001b[0;32m/usr/local/lib/python3.6/dist-packages/sklearn/metrics/_regression.py\u001b[0m in \u001b[0;36m_check_reg_targets\u001b[0;34m(y_true, y_pred, multioutput, dtype)\u001b[0m\n\u001b[1;32m     94\u001b[0m     \u001b[0;32mif\u001b[0m \u001b[0my_true\u001b[0m\u001b[0;34m.\u001b[0m\u001b[0mshape\u001b[0m\u001b[0;34m[\u001b[0m\u001b[0;36m1\u001b[0m\u001b[0;34m]\u001b[0m \u001b[0;34m!=\u001b[0m \u001b[0my_pred\u001b[0m\u001b[0;34m.\u001b[0m\u001b[0mshape\u001b[0m\u001b[0;34m[\u001b[0m\u001b[0;36m1\u001b[0m\u001b[0;34m]\u001b[0m\u001b[0;34m:\u001b[0m\u001b[0;34m\u001b[0m\u001b[0;34m\u001b[0m\u001b[0m\n\u001b[1;32m     95\u001b[0m         raise ValueError(\"y_true and y_pred have different number of output \"\n\u001b[0;32m---> 96\u001b[0;31m                          \"({0}!={1})\".format(y_true.shape[1], y_pred.shape[1]))\n\u001b[0m\u001b[1;32m     97\u001b[0m \u001b[0;34m\u001b[0m\u001b[0m\n\u001b[1;32m     98\u001b[0m     \u001b[0mn_outputs\u001b[0m \u001b[0;34m=\u001b[0m \u001b[0my_true\u001b[0m\u001b[0;34m.\u001b[0m\u001b[0mshape\u001b[0m\u001b[0;34m[\u001b[0m\u001b[0;36m1\u001b[0m\u001b[0;34m]\u001b[0m\u001b[0;34m\u001b[0m\u001b[0;34m\u001b[0m\u001b[0m\n",
            "\u001b[0;31mValueError\u001b[0m: y_true and y_pred have different number of output (13!=1)"
          ]
        }
      ]
    },
    {
      "cell_type": "code",
      "metadata": {
        "id": "54WEKkWDTp8z",
        "colab_type": "code",
        "colab": {}
      },
      "source": [
        "fare_pred = lr.predict(predictors_test)"
      ],
      "execution_count": null,
      "outputs": []
    },
    {
      "cell_type": "code",
      "metadata": {
        "id": "ytw37MTDVKS6",
        "colab_type": "code",
        "colab": {
          "base_uri": "https://localhost:8080/",
          "height": 204
        },
        "outputId": "c348b73e-c783-41c4-b6fd-d1ff28b5f28a"
      },
      "source": [
        "fare_test[0:5]"
      ],
      "execution_count": null,
      "outputs": [
        {
          "output_type": "execute_result",
          "data": {
            "text/html": [
              "<div>\n",
              "<style scoped>\n",
              "    .dataframe tbody tr th:only-of-type {\n",
              "        vertical-align: middle;\n",
              "    }\n",
              "\n",
              "    .dataframe tbody tr th {\n",
              "        vertical-align: top;\n",
              "    }\n",
              "\n",
              "    .dataframe thead th {\n",
              "        text-align: right;\n",
              "    }\n",
              "</style>\n",
              "<table border=\"1\" class=\"dataframe\">\n",
              "  <thead>\n",
              "    <tr style=\"text-align: right;\">\n",
              "      <th></th>\n",
              "      <th>FARE</th>\n",
              "    </tr>\n",
              "  </thead>\n",
              "  <tbody>\n",
              "    <tr>\n",
              "      <th>631</th>\n",
              "      <td>130.15</td>\n",
              "    </tr>\n",
              "    <tr>\n",
              "      <th>436</th>\n",
              "      <td>66.46</td>\n",
              "    </tr>\n",
              "    <tr>\n",
              "      <th>487</th>\n",
              "      <td>374.40</td>\n",
              "    </tr>\n",
              "    <tr>\n",
              "      <th>353</th>\n",
              "      <td>51.73</td>\n",
              "    </tr>\n",
              "    <tr>\n",
              "      <th>106</th>\n",
              "      <td>221.89</td>\n",
              "    </tr>\n",
              "  </tbody>\n",
              "</table>\n",
              "</div>"
            ],
            "text/plain": [
              "       FARE\n",
              "631  130.15\n",
              "436   66.46\n",
              "487  374.40\n",
              "353   51.73\n",
              "106  221.89"
            ]
          },
          "metadata": {
            "tags": []
          },
          "execution_count": 11
        }
      ]
    },
    {
      "cell_type": "code",
      "metadata": {
        "id": "0Q9NJF4WVZBx",
        "colab_type": "code",
        "colab": {
          "base_uri": "https://localhost:8080/",
          "height": 102
        },
        "outputId": "1e28f7e8-3087-4377-9603-834a6a709c1a"
      },
      "source": [
        "fare_pred[0:5]"
      ],
      "execution_count": null,
      "outputs": [
        {
          "output_type": "execute_result",
          "data": {
            "text/plain": [
              "array([[147.23003702],\n",
              "       [103.20184217],\n",
              "       [313.34278822],\n",
              "       [ 71.2051547 ],\n",
              "       [244.49440623]])"
            ]
          },
          "metadata": {
            "tags": []
          },
          "execution_count": 12
        }
      ]
    },
    {
      "cell_type": "code",
      "metadata": {
        "id": "6eYhvKy-VjYc",
        "colab_type": "code",
        "colab": {
          "base_uri": "https://localhost:8080/",
          "height": 34
        },
        "outputId": "33824685-a170-4b29-8038-f01cb1387682"
      },
      "source": [
        "# R2_Score with Numerical Predictors\n",
        "r2_score(fare_test, fare_pred)\n"
      ],
      "execution_count": null,
      "outputs": [
        {
          "output_type": "execute_result",
          "data": {
            "text/plain": [
              "0.7494985730637779"
            ]
          },
          "metadata": {
            "tags": []
          },
          "execution_count": 13
        }
      ]
    },
    {
      "cell_type": "code",
      "metadata": {
        "id": "ZKm0VJCZWJOF",
        "colab_type": "code",
        "colab": {
          "base_uri": "https://localhost:8080/",
          "height": 136
        },
        "outputId": "c2223762-2023-48cc-b4d2-c29da6d7735c"
      },
      "source": [
        "print('Coefficients:', lr.coef_)\n",
        "print('Intercept:', lr.intercept_)\n",
        "print('Mean squared error (MSE): %.2f'% sk.metrics.mean_squared_error(fare_test, fare_pred))\n",
        "print('Coefficient of determination (R^2): %.2f' % r2_score(fare_pred, fare_pred))"
      ],
      "execution_count": null,
      "outputs": [
        {
          "output_type": "stream",
          "text": [
            "Coefficients: [[ 1.23923266e+01 -1.73769301e+00  9.95787304e-03  1.08862091e-03\n",
            "   1.64545589e-03  4.13882285e-06  4.49958790e-06  7.59167002e-02\n",
            "  -7.46891007e-04 -3.77542045e+01 -4.01292913e+01 -1.33718957e+01\n",
            "  -1.49335873e+01]]\n",
            "Intercept: [-22.68250773]\n",
            "Mean squared error (MSE): 1310.43\n",
            "Coefficient of determination (R^2): 1.00\n"
          ],
          "name": "stdout"
        }
      ]
    },
    {
      "cell_type": "code",
      "metadata": {
        "id": "xKivPTnKn3Xg",
        "colab_type": "code",
        "colab": {}
      },
      "source": [
        ""
      ],
      "execution_count": null,
      "outputs": []
    }
  ]
}